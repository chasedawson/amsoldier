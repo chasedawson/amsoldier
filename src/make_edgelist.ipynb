{
 "cells": [
  {
   "cell_type": "code",
   "execution_count": 3,
   "metadata": {},
   "outputs": [],
   "source": [
    "import pandas as pd\n",
    "import nltk\n",
    "import os"
   ]
  },
  {
   "cell_type": "code",
   "execution_count": 4,
   "metadata": {},
   "outputs": [
    {
     "data": {
      "text/plain": [
       "'/Users/chasedawson/dev/sdad/amsoldier/src'"
      ]
     },
     "execution_count": 4,
     "metadata": {},
     "output_type": "execute_result"
    }
   ],
   "source": [
    "os.getcwd()"
   ]
  },
  {
   "cell_type": "code",
   "execution_count": 5,
   "metadata": {},
   "outputs": [],
   "source": [
    "filename = \"../data/s144_pos_topics.csv\""
   ]
  },
  {
   "cell_type": "code",
   "execution_count": 6,
   "metadata": {},
   "outputs": [
    {
     "data": {
      "text/html": [
       "<div>\n",
       "<style scoped>\n",
       "    .dataframe tbody tr th:only-of-type {\n",
       "        vertical-align: middle;\n",
       "    }\n",
       "\n",
       "    .dataframe tbody tr th {\n",
       "        vertical-align: top;\n",
       "    }\n",
       "\n",
       "    .dataframe thead th {\n",
       "        text-align: right;\n",
       "    }\n",
       "</style>\n",
       "<table border=\"1\" class=\"dataframe\">\n",
       "  <thead>\n",
       "    <tr style=\"text-align: right;\">\n",
       "      <th></th>\n",
       "      <th>id</th>\n",
       "      <th>subject_id</th>\n",
       "      <th>image_name</th>\n",
       "      <th>document_type</th>\n",
       "      <th>q85</th>\n",
       "      <th>sentiment</th>\n",
       "      <th>score</th>\n",
       "      <th>topic</th>\n",
       "    </tr>\n",
       "  </thead>\n",
       "  <tbody>\n",
       "    <tr>\n",
       "      <th>4</th>\n",
       "      <td>3</td>\n",
       "      <td>15901768</td>\n",
       "      <td>2521127-37-0004.jpg</td>\n",
       "      <td>A document that contains Q.85</td>\n",
       "      <td>concerning question i havent the slightest ide...</td>\n",
       "      <td>POSITIVE</td>\n",
       "      <td>0.997207</td>\n",
       "      <td>1</td>\n",
       "    </tr>\n",
       "    <tr>\n",
       "      <th>6</th>\n",
       "      <td>5</td>\n",
       "      <td>15901787</td>\n",
       "      <td>2521127-37-0006.jpg</td>\n",
       "      <td>A document that contains Q.85</td>\n",
       "      <td>the army would be swell for a certain amount o...</td>\n",
       "      <td>POSITIVE</td>\n",
       "      <td>0.890350</td>\n",
       "      <td>0</td>\n",
       "    </tr>\n",
       "    <tr>\n",
       "      <th>11</th>\n",
       "      <td>10</td>\n",
       "      <td>15901828</td>\n",
       "      <td>2521127-37-0011.jpg</td>\n",
       "      <td>A document that contains Q.85</td>\n",
       "      <td>the army is in so bad but i am reader to be ho...</td>\n",
       "      <td>POSITIVE</td>\n",
       "      <td>0.927433</td>\n",
       "      <td>0</td>\n",
       "    </tr>\n",
       "    <tr>\n",
       "      <th>12</th>\n",
       "      <td>11</td>\n",
       "      <td>15901835</td>\n",
       "      <td>2521127-37-0012.jpg</td>\n",
       "      <td>A document that contains Q.85</td>\n",
       "      <td>may god bless us all</td>\n",
       "      <td>POSITIVE</td>\n",
       "      <td>0.999380</td>\n",
       "      <td>1</td>\n",
       "    </tr>\n",
       "    <tr>\n",
       "      <th>13</th>\n",
       "      <td>12</td>\n",
       "      <td>15901840</td>\n",
       "      <td>2521127-37-0013.jpg</td>\n",
       "      <td>A document that contains Q.85</td>\n",
       "      <td>there is one thing. i do believe that the colo...</td>\n",
       "      <td>POSITIVE</td>\n",
       "      <td>0.998074</td>\n",
       "      <td>-1</td>\n",
       "    </tr>\n",
       "  </tbody>\n",
       "</table>\n",
       "</div>"
      ],
      "text/plain": [
       "    id subject_id           image_name                  document_type  \\\n",
       "4    3   15901768  2521127-37-0004.jpg  A document that contains Q.85   \n",
       "6    5   15901787  2521127-37-0006.jpg  A document that contains Q.85   \n",
       "11  10   15901828  2521127-37-0011.jpg  A document that contains Q.85   \n",
       "12  11   15901835  2521127-37-0012.jpg  A document that contains Q.85   \n",
       "13  12   15901840  2521127-37-0013.jpg  A document that contains Q.85   \n",
       "\n",
       "                                                  q85 sentiment     score  \\\n",
       "4   concerning question i havent the slightest ide...  POSITIVE  0.997207   \n",
       "6   the army would be swell for a certain amount o...  POSITIVE  0.890350   \n",
       "11  the army is in so bad but i am reader to be ho...  POSITIVE  0.927433   \n",
       "12                              may god bless us all   POSITIVE  0.999380   \n",
       "13  there is one thing. i do believe that the colo...  POSITIVE  0.998074   \n",
       "\n",
       "    topic  \n",
       "4       1  \n",
       "6       0  \n",
       "11      0  \n",
       "12      1  \n",
       "13     -1  "
      ]
     },
     "execution_count": 6,
     "metadata": {},
     "output_type": "execute_result"
    }
   ],
   "source": [
    "df = pd.read_csv(filename, index_col = 0)\n",
    "df.head()"
   ]
  },
  {
   "cell_type": "code",
   "execution_count": 123,
   "metadata": {},
   "outputs": [
    {
     "data": {
      "text/html": [
       "<div>\n",
       "<style scoped>\n",
       "    .dataframe tbody tr th:only-of-type {\n",
       "        vertical-align: middle;\n",
       "    }\n",
       "\n",
       "    .dataframe tbody tr th {\n",
       "        vertical-align: top;\n",
       "    }\n",
       "\n",
       "    .dataframe thead th {\n",
       "        text-align: right;\n",
       "    }\n",
       "</style>\n",
       "<table border=\"1\" class=\"dataframe\">\n",
       "  <thead>\n",
       "    <tr style=\"text-align: right;\">\n",
       "      <th></th>\n",
       "      <th>count</th>\n",
       "      <th>interval_id</th>\n",
       "    </tr>\n",
       "    <tr>\n",
       "      <th>word</th>\n",
       "      <th></th>\n",
       "      <th></th>\n",
       "    </tr>\n",
       "  </thead>\n",
       "  <tbody>\n",
       "    <tr>\n",
       "      <th>vote</th>\n",
       "      <td>86.0</td>\n",
       "      <td>0.0</td>\n",
       "    </tr>\n",
       "    <tr>\n",
       "      <th>#stopthest</th>\n",
       "      <td>48.0</td>\n",
       "      <td>0.0</td>\n",
       "    </tr>\n",
       "    <tr>\n",
       "      <th>trump</th>\n",
       "      <td>40.0</td>\n",
       "      <td>0.0</td>\n",
       "    </tr>\n",
       "    <tr>\n",
       "      <th>#wwg1wga</th>\n",
       "      <td>39.0</td>\n",
       "      <td>0.0</td>\n",
       "    </tr>\n",
       "    <tr>\n",
       "      <th>#americafirst</th>\n",
       "      <td>39.0</td>\n",
       "      <td>0.0</td>\n",
       "    </tr>\n",
       "  </tbody>\n",
       "</table>\n",
       "</div>"
      ],
      "text/plain": [
       "               count  interval_id\n",
       "word                             \n",
       "vote            86.0          0.0\n",
       "#stopthest      48.0          0.0\n",
       "trump           40.0          0.0\n",
       "#wwg1wga        39.0          0.0\n",
       "#americafirst   39.0          0.0"
      ]
     },
     "execution_count": 123,
     "metadata": {},
     "output_type": "execute_result"
    }
   ],
   "source": [
    "word_counts = pd.read_csv(\"../data/word_counts_over_time_intervals_v2.csv\", index_col = 1)\n",
    "word_counts = word_counts.drop(columns=[\"Unnamed: 0\"])\n",
    "word_counts.head()"
   ]
  },
  {
   "cell_type": "code",
   "execution_count": 124,
   "metadata": {},
   "outputs": [
    {
     "data": {
      "text/plain": [
       "(1087184, 2)"
      ]
     },
     "execution_count": 124,
     "metadata": {},
     "output_type": "execute_result"
    }
   ],
   "source": [
    "word_counts.shape"
   ]
  },
  {
   "cell_type": "code",
   "execution_count": 136,
   "metadata": {},
   "outputs": [
    {
     "data": {
      "text/plain": [
       "0.4567"
      ]
     },
     "execution_count": 136,
     "metadata": {},
     "output_type": "execute_result"
    }
   ],
   "source": [
    "round(0.4566778, 4)"
   ]
  },
  {
   "cell_type": "code",
   "execution_count": 137,
   "metadata": {},
   "outputs": [],
   "source": [
    "def make_links(interval):\n",
    "    data = df[df.interval_id == interval]\n",
    "    links = []\n",
    "    for i, row in data.iterrows():\n",
    "        if i % 2 == 1:\n",
    "            links.append({'source': row['item1'], 'target': row['item2'], 'count': str(int(row['count'])), 'phi': str(round(row['phi'], 3))})\n",
    "    return links"
   ]
  },
  {
   "cell_type": "code",
   "execution_count": 138,
   "metadata": {},
   "outputs": [
    {
     "data": {
      "text/plain": [
       "[0.0, 1.0, 2.0, 3.0, 4.0]"
      ]
     },
     "execution_count": 138,
     "metadata": {},
     "output_type": "execute_result"
    }
   ],
   "source": [
    "intervals = list(df.interval_id.value_counts().index.sort_values())\n",
    "intervals[:5]"
   ]
  },
  {
   "cell_type": "code",
   "execution_count": 139,
   "metadata": {},
   "outputs": [],
   "source": [
    "links_over_intervals = {}\n",
    "for interval in intervals:\n",
    "    links_over_intervals[str(int(interval))] = make_links(interval)"
   ]
  },
  {
   "cell_type": "code",
   "execution_count": 140,
   "metadata": {},
   "outputs": [
    {
     "data": {
      "text/html": [
       "<div>\n",
       "<style scoped>\n",
       "    .dataframe tbody tr th:only-of-type {\n",
       "        vertical-align: middle;\n",
       "    }\n",
       "\n",
       "    .dataframe tbody tr th {\n",
       "        vertical-align: top;\n",
       "    }\n",
       "\n",
       "    .dataframe thead th {\n",
       "        text-align: right;\n",
       "    }\n",
       "</style>\n",
       "<table border=\"1\" class=\"dataframe\">\n",
       "  <thead>\n",
       "    <tr style=\"text-align: right;\">\n",
       "      <th></th>\n",
       "      <th>source</th>\n",
       "      <th>target</th>\n",
       "      <th>count</th>\n",
       "      <th>phi</th>\n",
       "    </tr>\n",
       "  </thead>\n",
       "  <tbody>\n",
       "    <tr>\n",
       "      <th>0</th>\n",
       "      <td>america</td>\n",
       "      <td>vote</td>\n",
       "      <td>215</td>\n",
       "      <td>1.0</td>\n",
       "    </tr>\n",
       "    <tr>\n",
       "      <th>1</th>\n",
       "      <td>trump</td>\n",
       "      <td>vote</td>\n",
       "      <td>192</td>\n",
       "      <td>0.69</td>\n",
       "    </tr>\n",
       "    <tr>\n",
       "      <th>2</th>\n",
       "      <td>vote</td>\n",
       "      <td>go</td>\n",
       "      <td>177</td>\n",
       "      <td>1.0</td>\n",
       "    </tr>\n",
       "    <tr>\n",
       "      <th>3</th>\n",
       "      <td>vote</td>\n",
       "      <td>light</td>\n",
       "      <td>177</td>\n",
       "      <td>1.0</td>\n",
       "    </tr>\n",
       "    <tr>\n",
       "      <th>4</th>\n",
       "      <td>vote</td>\n",
       "      <td>expos</td>\n",
       "      <td>177</td>\n",
       "      <td>1.0</td>\n",
       "    </tr>\n",
       "  </tbody>\n",
       "</table>\n",
       "</div>"
      ],
      "text/plain": [
       "    source target count   phi\n",
       "0  america   vote   215   1.0\n",
       "1    trump   vote   192  0.69\n",
       "2     vote     go   177   1.0\n",
       "3     vote  light   177   1.0\n",
       "4     vote  expos   177   1.0"
      ]
     },
     "execution_count": 140,
     "metadata": {},
     "output_type": "execute_result"
    }
   ],
   "source": [
    "pd.DataFrame(links_over_intervals[\"17\"]).head()"
   ]
  },
  {
   "cell_type": "code",
   "execution_count": 37,
   "metadata": {},
   "outputs": [
    {
     "name": "stdout",
     "output_type": "stream",
     "text": [
      "Collecting python-louvain\n",
      "  Downloading python-louvain-0.15.tar.gz (204 kB)\n",
      "\u001b[K     |████████████████████████████████| 204 kB 5.7 MB/s eta 0:00:01\n",
      "\u001b[?25hCollecting networkx\n",
      "  Using cached networkx-2.5-py3-none-any.whl (1.6 MB)\n",
      "Requirement already satisfied: numpy in /Users/chasedawson/opt/anaconda3/envs/c4e-misinfo/lib/python3.8/site-packages (from python-louvain) (1.19.2)\n",
      "Requirement already satisfied: decorator>=4.3.0 in /Users/chasedawson/opt/anaconda3/envs/c4e-misinfo/lib/python3.8/site-packages (from networkx->python-louvain) (4.4.2)\n",
      "Building wheels for collected packages: python-louvain\n",
      "  Building wheel for python-louvain (setup.py) ... \u001b[?25ldone\n",
      "\u001b[?25h  Created wheel for python-louvain: filename=python_louvain-0.15-py3-none-any.whl size=9401 sha256=c18c6ee897a1ecc398a6919c13af59357849bc7a34a135aef289a9de01982c4c\n",
      "  Stored in directory: /Users/chasedawson/Library/Caches/pip/wheels/c8/68/21/d04741956802581119d875a0d9fce6895e8f9ffae71223f3e3\n",
      "Successfully built python-louvain\n",
      "Installing collected packages: networkx, python-louvain\n",
      "Successfully installed networkx-2.5 python-louvain-0.15\n"
     ]
    }
   ],
   "source": [
    "!pip install python-louvain"
   ]
  },
  {
   "cell_type": "code",
   "execution_count": 39,
   "metadata": {},
   "outputs": [],
   "source": [
    "# get communities"
   ]
  },
  {
   "cell_type": "code",
   "execution_count": 141,
   "metadata": {},
   "outputs": [
    {
     "data": {
      "text/html": [
       "<div>\n",
       "<style scoped>\n",
       "    .dataframe tbody tr th:only-of-type {\n",
       "        vertical-align: middle;\n",
       "    }\n",
       "\n",
       "    .dataframe tbody tr th {\n",
       "        vertical-align: top;\n",
       "    }\n",
       "\n",
       "    .dataframe thead th {\n",
       "        text-align: right;\n",
       "    }\n",
       "</style>\n",
       "<table border=\"1\" class=\"dataframe\">\n",
       "  <thead>\n",
       "    <tr style=\"text-align: right;\">\n",
       "      <th></th>\n",
       "      <th>count</th>\n",
       "      <th>interval_id</th>\n",
       "      <th>index</th>\n",
       "    </tr>\n",
       "    <tr>\n",
       "      <th>word</th>\n",
       "      <th></th>\n",
       "      <th></th>\n",
       "      <th></th>\n",
       "    </tr>\n",
       "  </thead>\n",
       "  <tbody>\n",
       "    <tr>\n",
       "      <th>vote</th>\n",
       "      <td>86.0</td>\n",
       "      <td>0.0</td>\n",
       "      <td>0</td>\n",
       "    </tr>\n",
       "    <tr>\n",
       "      <th>#stopthest</th>\n",
       "      <td>48.0</td>\n",
       "      <td>0.0</td>\n",
       "      <td>1</td>\n",
       "    </tr>\n",
       "    <tr>\n",
       "      <th>trump</th>\n",
       "      <td>40.0</td>\n",
       "      <td>0.0</td>\n",
       "      <td>2</td>\n",
       "    </tr>\n",
       "    <tr>\n",
       "      <th>#wwg1wga</th>\n",
       "      <td>39.0</td>\n",
       "      <td>0.0</td>\n",
       "      <td>3</td>\n",
       "    </tr>\n",
       "    <tr>\n",
       "      <th>#americafirst</th>\n",
       "      <td>39.0</td>\n",
       "      <td>0.0</td>\n",
       "      <td>4</td>\n",
       "    </tr>\n",
       "  </tbody>\n",
       "</table>\n",
       "</div>"
      ],
      "text/plain": [
       "               count  interval_id  index\n",
       "word                                    \n",
       "vote            86.0          0.0      0\n",
       "#stopthest      48.0          0.0      1\n",
       "trump           40.0          0.0      2\n",
       "#wwg1wga        39.0          0.0      3\n",
       "#americafirst   39.0          0.0      4"
      ]
     },
     "execution_count": 141,
     "metadata": {},
     "output_type": "execute_result"
    }
   ],
   "source": [
    "# add indices into word counts\n",
    "index = []\n",
    "for interval in intervals:\n",
    "    data = word_counts[word_counts.interval_id == interval]\n",
    "    for i in range(len(data)):\n",
    "        index.append(i)\n",
    "word_counts['index'] = index\n",
    "word_counts.head()"
   ]
  },
  {
   "cell_type": "code",
   "execution_count": 142,
   "metadata": {},
   "outputs": [],
   "source": [
    "import community as community_louvain\n",
    "import networkx as nx\n",
    "\n",
    "def get_edges(interval_id):\n",
    "    data = df[df.interval_id == interval_id]\n",
    "    wc = word_counts[word_counts.interval_id == interval_id]\n",
    "    edges = []\n",
    "    for i, row in data.iterrows():\n",
    "        edge = (wc.loc[row['item1']]['index'], wc.loc[row['item2']]['index'])\n",
    "        edges.append(edge)\n",
    "    return edges   "
   ]
  },
  {
   "cell_type": "code",
   "execution_count": 143,
   "metadata": {},
   "outputs": [],
   "source": [
    "# add communtiy assignments to word counts\n",
    "import numpy as np\n",
    "word_counts[\"community\"] = np.nan\n",
    "for interval in intervals:\n",
    "    edges = get_edges(interval)\n",
    "    G = nx.Graph()\n",
    "    G.add_edges_from(edges100)\n",
    "    partition = community_louvain.best_partition(G)\n",
    "    for key in partition:\n",
    "        word_counts.loc[(word_counts.interval_id == interval) & (word_counts['index'] == key), 'community'] = partition[key]"
   ]
  },
  {
   "cell_type": "code",
   "execution_count": 144,
   "metadata": {},
   "outputs": [],
   "source": [
    "def make_nodes(interval_id):\n",
    "    data = df[df.interval_id == interval_id]\n",
    "    wc = word_counts[word_counts.interval_id == interval_id]\n",
    "    nmap = {}\n",
    "    nodes = []\n",
    "    for i in range(len(data)):\n",
    "        # add item1\n",
    "        nodes = add_item(data.iloc[i]['item1'], wc, nmap, nodes)\n",
    "        \n",
    "        # add item2\n",
    "        nodes = add_item(data.iloc[i]['item2'], wc, nmap, nodes)\n",
    "        \n",
    "    return nodes\n",
    "        \n",
    "                        \n",
    "def add_item(word, wc, nmap, nodes):\n",
    "    if word not in nmap:\n",
    "        nmap[word] = word\n",
    "        count = wc.loc[word]['count']\n",
    "        community = wc.loc[word]['community']\n",
    "        if np.isnan(community):\n",
    "            community = -1\n",
    "        nodes.append({'id': word, 'label': word, 'count': str(int(count)), 'louvain': str(int(community))})\n",
    "    return nodes"
   ]
  },
  {
   "cell_type": "code",
   "execution_count": 146,
   "metadata": {},
   "outputs": [],
   "source": [
    "nodes_over_intervals = {}\n",
    "for interval in intervals:\n",
    "    nodes_over_intervals[str(int(interval))] = make_nodes(interval)"
   ]
  },
  {
   "cell_type": "code",
   "execution_count": 147,
   "metadata": {},
   "outputs": [],
   "source": [
    "data_over_intervals = {'nodes': nodes_over_intervals, 'links': links_over_intervals}"
   ]
  },
  {
   "cell_type": "code",
   "execution_count": 158,
   "metadata": {},
   "outputs": [
    {
     "data": {
      "text/plain": [
       "[0.0, 1.0, 2.0, 3.0, 4.0]"
      ]
     },
     "execution_count": 158,
     "metadata": {},
     "output_type": "execute_result"
    }
   ],
   "source": [
    "intervals[:5]"
   ]
  },
  {
   "cell_type": "code",
   "execution_count": 160,
   "metadata": {},
   "outputs": [],
   "source": [
    "# filter out hashtags in nodes\n",
    "for interval in intervals:\n",
    "    nodes = data_over_intervals['nodes'][str(int(interval))]\n",
    "    for node in nodes.copy():\n",
    "        if node['id'][0] == '#':\n",
    "            nodes.remove(node)"
   ]
  },
  {
   "cell_type": "code",
   "execution_count": 166,
   "metadata": {},
   "outputs": [],
   "source": [
    "for interval in intervals:\n",
    "    links = data_over_intervals['links'][str(int(interval))]\n",
    "    for link in links.copy():\n",
    "        if link['source'][0] == '#' or link['target'][0] == '#':\n",
    "            links.remove(link)"
   ]
  },
  {
   "cell_type": "code",
   "execution_count": 167,
   "metadata": {},
   "outputs": [],
   "source": [
    "import json\n",
    "with open('../data/cor_no_hashtags.json', 'w') as fp:\n",
    "    json.dump(data_over_intervals, fp)"
   ]
  },
  {
   "cell_type": "code",
   "execution_count": 87,
   "metadata": {},
   "outputs": [],
   "source": [
    "# recode intervals\n",
    "for interval in intervals:\n",
    "    new_key = str(int(interval))\n",
    "    data_over_intervals['nodes'][new_key] = data_over_intervals['nodes'].pop(interval)\n",
    "    data_over_intervals['links'][new_key] = data_over_intervals['links'].pop(interval)"
   ]
  }
 ],
 "metadata": {
  "kernelspec": {
   "display_name": "Python 3",
   "language": "python",
   "name": "python3"
  },
  "language_info": {
   "codemirror_mode": {
    "name": "ipython",
    "version": 3
   },
   "file_extension": ".py",
   "mimetype": "text/x-python",
   "name": "python",
   "nbconvert_exporter": "python",
   "pygments_lexer": "ipython3",
   "version": "3.8.5"
  }
 },
 "nbformat": 4,
 "nbformat_minor": 4
}
