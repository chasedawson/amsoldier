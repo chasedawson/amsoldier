{
 "cells": [
  {
   "cell_type": "code",
   "execution_count": 6,
   "metadata": {},
   "outputs": [],
   "source": [
    "import pandas as pd\n",
    "import numpy as np\n",
    "import json\n",
    "import re"
   ]
  },
  {
   "cell_type": "code",
   "execution_count": 3,
   "metadata": {},
   "outputs": [
    {
     "data": {
      "text/html": [
       "<div>\n",
       "<style scoped>\n",
       "    .dataframe tbody tr th:only-of-type {\n",
       "        vertical-align: middle;\n",
       "    }\n",
       "\n",
       "    .dataframe tbody tr th {\n",
       "        vertical-align: top;\n",
       "    }\n",
       "\n",
       "    .dataframe thead th {\n",
       "        text-align: right;\n",
       "    }\n",
       "</style>\n",
       "<table border=\"1\" class=\"dataframe\">\n",
       "  <thead>\n",
       "    <tr style=\"text-align: right;\">\n",
       "      <th></th>\n",
       "      <th>Unnamed: 0</th>\n",
       "      <th>key</th>\n",
       "      <th>classification_id</th>\n",
       "      <th>user_name</th>\n",
       "      <th>subject_ids</th>\n",
       "      <th>image_id</th>\n",
       "      <th>workflow_name</th>\n",
       "      <th>task</th>\n",
       "      <th>task_label</th>\n",
       "      <th>value</th>\n",
       "    </tr>\n",
       "  </thead>\n",
       "  <tbody>\n",
       "    <tr>\n",
       "      <th>0</th>\n",
       "      <td>0</td>\n",
       "      <td>0</td>\n",
       "      <td>77461186</td>\n",
       "      <td>tkotwim</td>\n",
       "      <td>14435268</td>\n",
       "      <td>cebf09d289c8b9c842aa339b17430007.jpg</td>\n",
       "      <td>Transcribe</td>\n",
       "      <td>T0</td>\n",
       "      <td>Transcribe the handwritten portion of the imag...</td>\n",
       "      <td>22:00 to 23:00 at night and feed us again. Tha...</td>\n",
       "    </tr>\n",
       "    <tr>\n",
       "      <th>1</th>\n",
       "      <td>1</td>\n",
       "      <td>1</td>\n",
       "      <td>77461619</td>\n",
       "      <td>tkotwim</td>\n",
       "      <td>14435268</td>\n",
       "      <td>cebf09d289c8b9c842aa339b17430007.jpg</td>\n",
       "      <td>Transcribe</td>\n",
       "      <td>T0</td>\n",
       "      <td>Transcribe the handwritten portion of the imag...</td>\n",
       "      <td>22:00 to 23:00 at night and feed us again. Tha...</td>\n",
       "    </tr>\n",
       "    <tr>\n",
       "      <th>2</th>\n",
       "      <td>2</td>\n",
       "      <td>1</td>\n",
       "      <td>77461619</td>\n",
       "      <td>tkotwim</td>\n",
       "      <td>14435268</td>\n",
       "      <td>cebf09d289c8b9c842aa339b17430007.jpg</td>\n",
       "      <td>Transcribe</td>\n",
       "      <td>T1</td>\n",
       "      <td>Are there any errors in the transcription?</td>\n",
       "      <td>No</td>\n",
       "    </tr>\n",
       "    <tr>\n",
       "      <th>3</th>\n",
       "      <td>3</td>\n",
       "      <td>2</td>\n",
       "      <td>82481932</td>\n",
       "      <td>not-logged-in-fe4982767bd4e72c80f4</td>\n",
       "      <td>14435268</td>\n",
       "      <td>cebf09d289c8b9c842aa339b17430007.jpg</td>\n",
       "      <td>Transcribe</td>\n",
       "      <td>T0</td>\n",
       "      <td>Transcribe the handwritten portion of the imag...</td>\n",
       "      <td>I see no need for erasting the time that we wa...</td>\n",
       "    </tr>\n",
       "    <tr>\n",
       "      <th>4</th>\n",
       "      <td>4</td>\n",
       "      <td>3</td>\n",
       "      <td>82481999</td>\n",
       "      <td>not-logged-in-be8b812afab887d82fe0</td>\n",
       "      <td>14435268</td>\n",
       "      <td>cebf09d289c8b9c842aa339b17430007.jpg</td>\n",
       "      <td>Transcribe</td>\n",
       "      <td>T0</td>\n",
       "      <td>Transcribe the handwritten portion of the imag...</td>\n",
       "      <td>I see no need for wasting the time that we was...</td>\n",
       "    </tr>\n",
       "  </tbody>\n",
       "</table>\n",
       "</div>"
      ],
      "text/plain": [
       "   Unnamed: 0  key  classification_id                           user_name  \\\n",
       "0           0    0           77461186                             tkotwim   \n",
       "1           1    1           77461619                             tkotwim   \n",
       "2           2    1           77461619                             tkotwim   \n",
       "3           3    2           82481932  not-logged-in-fe4982767bd4e72c80f4   \n",
       "4           4    3           82481999  not-logged-in-be8b812afab887d82fe0   \n",
       "\n",
       "   subject_ids                              image_id workflow_name task  \\\n",
       "0     14435268  cebf09d289c8b9c842aa339b17430007.jpg    Transcribe   T0   \n",
       "1     14435268  cebf09d289c8b9c842aa339b17430007.jpg    Transcribe   T0   \n",
       "2     14435268  cebf09d289c8b9c842aa339b17430007.jpg    Transcribe   T1   \n",
       "3     14435268  cebf09d289c8b9c842aa339b17430007.jpg    Transcribe   T0   \n",
       "4     14435268  cebf09d289c8b9c842aa339b17430007.jpg    Transcribe   T0   \n",
       "\n",
       "                                          task_label  \\\n",
       "0  Transcribe the handwritten portion of the imag...   \n",
       "1  Transcribe the handwritten portion of the imag...   \n",
       "2         Are there any errors in the transcription?   \n",
       "3  Transcribe the handwritten portion of the imag...   \n",
       "4  Transcribe the handwritten portion of the imag...   \n",
       "\n",
       "                                               value  \n",
       "0  22:00 to 23:00 at night and feed us again. Tha...  \n",
       "1  22:00 to 23:00 at night and feed us again. Tha...  \n",
       "2                                                 No  \n",
       "3  I see no need for erasting the time that we wa...  \n",
       "4  I see no need for wasting the time that we was...  "
      ]
     },
     "execution_count": 3,
     "metadata": {},
     "output_type": "execute_result"
    }
   ],
   "source": [
    "df = pd.read_csv(\"the-american-soldier-classifications-final_tasks.csv\") \n",
    "df.head()"
   ]
  },
  {
   "cell_type": "code",
   "execution_count": 4,
   "metadata": {},
   "outputs": [],
   "source": [
    "df = df.drop(columns=[\"Unnamed: 0\"])"
   ]
  },
  {
   "cell_type": "code",
   "execution_count": 5,
   "metadata": {},
   "outputs": [
    {
     "data": {
      "text/html": [
       "<div>\n",
       "<style scoped>\n",
       "    .dataframe tbody tr th:only-of-type {\n",
       "        vertical-align: middle;\n",
       "    }\n",
       "\n",
       "    .dataframe tbody tr th {\n",
       "        vertical-align: top;\n",
       "    }\n",
       "\n",
       "    .dataframe thead th {\n",
       "        text-align: right;\n",
       "    }\n",
       "</style>\n",
       "<table border=\"1\" class=\"dataframe\">\n",
       "  <thead>\n",
       "    <tr style=\"text-align: right;\">\n",
       "      <th></th>\n",
       "      <th>key</th>\n",
       "      <th>classification_id</th>\n",
       "      <th>user_name</th>\n",
       "      <th>subject_ids</th>\n",
       "      <th>image_id</th>\n",
       "      <th>workflow_name</th>\n",
       "      <th>task</th>\n",
       "      <th>task_label</th>\n",
       "      <th>value</th>\n",
       "    </tr>\n",
       "  </thead>\n",
       "  <tbody>\n",
       "    <tr>\n",
       "      <th>0</th>\n",
       "      <td>0</td>\n",
       "      <td>77461186</td>\n",
       "      <td>tkotwim</td>\n",
       "      <td>14435268</td>\n",
       "      <td>cebf09d289c8b9c842aa339b17430007.jpg</td>\n",
       "      <td>Transcribe</td>\n",
       "      <td>T0</td>\n",
       "      <td>Transcribe the handwritten portion of the imag...</td>\n",
       "      <td>22:00 to 23:00 at night and feed us again. Tha...</td>\n",
       "    </tr>\n",
       "    <tr>\n",
       "      <th>1</th>\n",
       "      <td>1</td>\n",
       "      <td>77461619</td>\n",
       "      <td>tkotwim</td>\n",
       "      <td>14435268</td>\n",
       "      <td>cebf09d289c8b9c842aa339b17430007.jpg</td>\n",
       "      <td>Transcribe</td>\n",
       "      <td>T0</td>\n",
       "      <td>Transcribe the handwritten portion of the imag...</td>\n",
       "      <td>22:00 to 23:00 at night and feed us again. Tha...</td>\n",
       "    </tr>\n",
       "    <tr>\n",
       "      <th>2</th>\n",
       "      <td>1</td>\n",
       "      <td>77461619</td>\n",
       "      <td>tkotwim</td>\n",
       "      <td>14435268</td>\n",
       "      <td>cebf09d289c8b9c842aa339b17430007.jpg</td>\n",
       "      <td>Transcribe</td>\n",
       "      <td>T1</td>\n",
       "      <td>Are there any errors in the transcription?</td>\n",
       "      <td>No</td>\n",
       "    </tr>\n",
       "    <tr>\n",
       "      <th>3</th>\n",
       "      <td>2</td>\n",
       "      <td>82481932</td>\n",
       "      <td>not-logged-in-fe4982767bd4e72c80f4</td>\n",
       "      <td>14435268</td>\n",
       "      <td>cebf09d289c8b9c842aa339b17430007.jpg</td>\n",
       "      <td>Transcribe</td>\n",
       "      <td>T0</td>\n",
       "      <td>Transcribe the handwritten portion of the imag...</td>\n",
       "      <td>I see no need for erasting the time that we wa...</td>\n",
       "    </tr>\n",
       "    <tr>\n",
       "      <th>4</th>\n",
       "      <td>3</td>\n",
       "      <td>82481999</td>\n",
       "      <td>not-logged-in-be8b812afab887d82fe0</td>\n",
       "      <td>14435268</td>\n",
       "      <td>cebf09d289c8b9c842aa339b17430007.jpg</td>\n",
       "      <td>Transcribe</td>\n",
       "      <td>T0</td>\n",
       "      <td>Transcribe the handwritten portion of the imag...</td>\n",
       "      <td>I see no need for wasting the time that we was...</td>\n",
       "    </tr>\n",
       "  </tbody>\n",
       "</table>\n",
       "</div>"
      ],
      "text/plain": [
       "   key  classification_id                           user_name  subject_ids  \\\n",
       "0    0           77461186                             tkotwim     14435268   \n",
       "1    1           77461619                             tkotwim     14435268   \n",
       "2    1           77461619                             tkotwim     14435268   \n",
       "3    2           82481932  not-logged-in-fe4982767bd4e72c80f4     14435268   \n",
       "4    3           82481999  not-logged-in-be8b812afab887d82fe0     14435268   \n",
       "\n",
       "                               image_id workflow_name task  \\\n",
       "0  cebf09d289c8b9c842aa339b17430007.jpg    Transcribe   T0   \n",
       "1  cebf09d289c8b9c842aa339b17430007.jpg    Transcribe   T0   \n",
       "2  cebf09d289c8b9c842aa339b17430007.jpg    Transcribe   T1   \n",
       "3  cebf09d289c8b9c842aa339b17430007.jpg    Transcribe   T0   \n",
       "4  cebf09d289c8b9c842aa339b17430007.jpg    Transcribe   T0   \n",
       "\n",
       "                                          task_label  \\\n",
       "0  Transcribe the handwritten portion of the imag...   \n",
       "1  Transcribe the handwritten portion of the imag...   \n",
       "2         Are there any errors in the transcription?   \n",
       "3  Transcribe the handwritten portion of the imag...   \n",
       "4  Transcribe the handwritten portion of the imag...   \n",
       "\n",
       "                                               value  \n",
       "0  22:00 to 23:00 at night and feed us again. Tha...  \n",
       "1  22:00 to 23:00 at night and feed us again. Tha...  \n",
       "2                                                 No  \n",
       "3  I see no need for erasting the time that we wa...  \n",
       "4  I see no need for wasting the time that we was...  "
      ]
     },
     "execution_count": 5,
     "metadata": {},
     "output_type": "execute_result"
    }
   ],
   "source": [
    "df.head()"
   ]
  },
  {
   "cell_type": "code",
   "execution_count": 19,
   "metadata": {},
   "outputs": [
    {
     "name": "stdout",
     "output_type": "stream",
     "text": [
      "<class 'pandas.core.frame.DataFrame'>\n",
      "RangeIndex: 1394141 entries, 0 to 1394140\n",
      "Data columns (total 9 columns):\n",
      " #   Column             Non-Null Count    Dtype \n",
      "---  ------             --------------    ----- \n",
      " 0   key                1394141 non-null  int64 \n",
      " 1   classification_id  1394141 non-null  int64 \n",
      " 2   user_name          1394141 non-null  object\n",
      " 3   subject_ids        1394141 non-null  int64 \n",
      " 4   image_id           1394141 non-null  object\n",
      " 5   workflow_name      1394141 non-null  object\n",
      " 6   task               1394141 non-null  object\n",
      " 7   task_label         1394114 non-null  object\n",
      " 8   value              1015134 non-null  object\n",
      "dtypes: int64(3), object(6)\n",
      "memory usage: 95.7+ MB\n"
     ]
    }
   ],
   "source": [
    "df.info()"
   ]
  },
  {
   "cell_type": "code",
   "execution_count": 25,
   "metadata": {},
   "outputs": [
    {
     "data": {
      "text/plain": [
       "True"
      ]
     },
     "execution_count": 25,
     "metadata": {},
     "output_type": "execute_result"
    }
   ],
   "source": [
    "# fill na values in value column\n",
    "re.search(\"hi\", \"hello\") is None"
   ]
  },
  {
   "cell_type": "code",
   "execution_count": 27,
   "metadata": {},
   "outputs": [],
   "source": [
    "# find rows of dataset that contain newlines\n",
    "nl = []\n",
    "two_nl = []\n",
    "nlp_or_pnl = []\n",
    "\n",
    "for i in range(len(df['value'])):\n",
    "    value = df['value'][i]\n",
    "    # for just a newline: '\\n'\n",
    "    match = re.search('\\n', value)\n",
    "    if match is not None:\n",
    "        newlines.append(i)\n",
    "    # for a double newline: '\\n\\n'\n",
    "    # for a newline and paragraph next to one another: '\\n[paragraph]' or '[paragraph]\\n'\n"
   ]
  },
  {
   "cell_type": "code",
   "execution_count": 34,
   "metadata": {},
   "outputs": [],
   "source": [
    "test_string = 'hello \\n my name is chase \\n\\n and i like \\n[paragraph] to read \\n \\n a lot \\n [paragraph] do you?'"
   ]
  },
  {
   "cell_type": "code",
   "execution_count": 36,
   "metadata": {},
   "outputs": [
    {
     "data": {
      "text/plain": [
       "<re.Match object; span=(6, 7), match='\\n'>"
      ]
     },
     "execution_count": 36,
     "metadata": {},
     "output_type": "execute_result"
    }
   ],
   "source": [
    "re.search('\\n', test_string)"
   ]
  },
  {
   "cell_type": "code",
   "execution_count": 29,
   "metadata": {},
   "outputs": [
    {
     "data": {
      "text/plain": [
       "'95. Do you feel that you have been given your fair share of furloughs and passes since you have been in this camp?\\nI have had my fair share of passes, but not of furloughs\\n96. Up to now, has the war made things better or worse for your family and friends back home (such things as jobs, pay, and living conditions)?\\nThings are a lot better\\n97. If you have any further remarks you would like to make on any subject please write them below as fully as you like.\\nI see no need for wasting the time that we wast in school + the time that we have to learn thing are entirely to short for us to really take them in and learn them. '"
      ]
     },
     "execution_count": 29,
     "metadata": {},
     "output_type": "execute_result"
    }
   ],
   "source": [
    "df['value'][30]"
   ]
  },
  {
   "cell_type": "code",
   "execution_count": null,
   "metadata": {},
   "outputs": [],
   "source": []
  }
 ],
 "metadata": {
  "kernelspec": {
   "display_name": "Python 3",
   "language": "python",
   "name": "python3"
  },
  "language_info": {
   "codemirror_mode": {
    "name": "ipython",
    "version": 3
   },
   "file_extension": ".py",
   "mimetype": "text/x-python",
   "name": "python",
   "nbconvert_exporter": "python",
   "pygments_lexer": "ipython3",
   "version": "3.9.0"
  }
 },
 "nbformat": 4,
 "nbformat_minor": 4
}
