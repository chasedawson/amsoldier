{
 "cells": [
  {
   "cell_type": "code",
   "execution_count": 1,
   "metadata": {},
   "outputs": [
    {
     "data": {
      "text/plain": [
       "'/Users/chasedawson/dev/sdad/amsoldier/src'"
      ]
     },
     "execution_count": 1,
     "metadata": {},
     "output_type": "execute_result"
    }
   ],
   "source": [
    "import os\n",
    "os.getcwd()"
   ]
  },
  {
   "cell_type": "code",
   "execution_count": 2,
   "metadata": {},
   "outputs": [
    {
     "name": "stdout",
     "output_type": "stream",
     "text": [
      "ln: text_analysis.py: File exists\r\n"
     ]
    },
    {
     "name": "stderr",
     "output_type": "stream",
     "text": [
      "[nltk_data] Downloading package punkt to\n",
      "[nltk_data]     /Users/chasedawson/nltk_data...\n",
      "[nltk_data]   Package punkt is already up-to-date!\n",
      "[nltk_data] Downloading package stopwords to\n",
      "[nltk_data]     /Users/chasedawson/nltk_data...\n",
      "[nltk_data]   Package stopwords is already up-to-date!\n",
      "[nltk_data] Downloading package wordnet to\n",
      "[nltk_data]     /Users/chasedawson/nltk_data...\n",
      "[nltk_data]   Package wordnet is already up-to-date!\n"
     ]
    }
   ],
   "source": [
    "!ln -s ../../text_analysis/text_analysis.py text_analysis.py\n",
    "import text_analysis as ta"
   ]
  },
  {
   "cell_type": "code",
   "execution_count": 3,
   "metadata": {},
   "outputs": [],
   "source": [
    "import pandas as pd"
   ]
  },
  {
   "cell_type": "code",
   "execution_count": 5,
   "metadata": {},
   "outputs": [
    {
     "data": {
      "text/html": [
       "<div>\n",
       "<style scoped>\n",
       "    .dataframe tbody tr th:only-of-type {\n",
       "        vertical-align: middle;\n",
       "    }\n",
       "\n",
       "    .dataframe tbody tr th {\n",
       "        vertical-align: top;\n",
       "    }\n",
       "\n",
       "    .dataframe thead th {\n",
       "        text-align: right;\n",
       "    }\n",
       "</style>\n",
       "<table border=\"1\" class=\"dataframe\">\n",
       "  <thead>\n",
       "    <tr style=\"text-align: right;\">\n",
       "      <th></th>\n",
       "      <th>id</th>\n",
       "      <th>subject_id</th>\n",
       "      <th>image_name</th>\n",
       "      <th>document_type</th>\n",
       "      <th>q85</th>\n",
       "      <th>sentiment</th>\n",
       "      <th>score</th>\n",
       "      <th>topic</th>\n",
       "    </tr>\n",
       "  </thead>\n",
       "  <tbody>\n",
       "    <tr>\n",
       "      <th>4</th>\n",
       "      <td>3</td>\n",
       "      <td>15901768</td>\n",
       "      <td>2521127-37-0004.jpg</td>\n",
       "      <td>A document that contains Q.85</td>\n",
       "      <td>concerning question i havent the slightest ide...</td>\n",
       "      <td>POSITIVE</td>\n",
       "      <td>0.997207</td>\n",
       "      <td>1</td>\n",
       "    </tr>\n",
       "    <tr>\n",
       "      <th>6</th>\n",
       "      <td>5</td>\n",
       "      <td>15901787</td>\n",
       "      <td>2521127-37-0006.jpg</td>\n",
       "      <td>A document that contains Q.85</td>\n",
       "      <td>the army would be swell for a certain amount o...</td>\n",
       "      <td>POSITIVE</td>\n",
       "      <td>0.890350</td>\n",
       "      <td>0</td>\n",
       "    </tr>\n",
       "    <tr>\n",
       "      <th>11</th>\n",
       "      <td>10</td>\n",
       "      <td>15901828</td>\n",
       "      <td>2521127-37-0011.jpg</td>\n",
       "      <td>A document that contains Q.85</td>\n",
       "      <td>the army is in so bad but i am reader to be ho...</td>\n",
       "      <td>POSITIVE</td>\n",
       "      <td>0.927433</td>\n",
       "      <td>0</td>\n",
       "    </tr>\n",
       "    <tr>\n",
       "      <th>12</th>\n",
       "      <td>11</td>\n",
       "      <td>15901835</td>\n",
       "      <td>2521127-37-0012.jpg</td>\n",
       "      <td>A document that contains Q.85</td>\n",
       "      <td>may god bless us all</td>\n",
       "      <td>POSITIVE</td>\n",
       "      <td>0.999380</td>\n",
       "      <td>1</td>\n",
       "    </tr>\n",
       "    <tr>\n",
       "      <th>13</th>\n",
       "      <td>12</td>\n",
       "      <td>15901840</td>\n",
       "      <td>2521127-37-0013.jpg</td>\n",
       "      <td>A document that contains Q.85</td>\n",
       "      <td>there is one thing. i do believe that the colo...</td>\n",
       "      <td>POSITIVE</td>\n",
       "      <td>0.998074</td>\n",
       "      <td>-1</td>\n",
       "    </tr>\n",
       "  </tbody>\n",
       "</table>\n",
       "</div>"
      ],
      "text/plain": [
       "    id subject_id           image_name                  document_type  \\\n",
       "4    3   15901768  2521127-37-0004.jpg  A document that contains Q.85   \n",
       "6    5   15901787  2521127-37-0006.jpg  A document that contains Q.85   \n",
       "11  10   15901828  2521127-37-0011.jpg  A document that contains Q.85   \n",
       "12  11   15901835  2521127-37-0012.jpg  A document that contains Q.85   \n",
       "13  12   15901840  2521127-37-0013.jpg  A document that contains Q.85   \n",
       "\n",
       "                                                  q85 sentiment     score  \\\n",
       "4   concerning question i havent the slightest ide...  POSITIVE  0.997207   \n",
       "6   the army would be swell for a certain amount o...  POSITIVE  0.890350   \n",
       "11  the army is in so bad but i am reader to be ho...  POSITIVE  0.927433   \n",
       "12                              may god bless us all   POSITIVE  0.999380   \n",
       "13  there is one thing. i do believe that the colo...  POSITIVE  0.998074   \n",
       "\n",
       "    topic  \n",
       "4       1  \n",
       "6       0  \n",
       "11      0  \n",
       "12      1  \n",
       "13     -1  "
      ]
     },
     "execution_count": 5,
     "metadata": {},
     "output_type": "execute_result"
    }
   ],
   "source": [
    "s144_pos = pd.read_csv(\"../data/s144_pos_topics.csv\", index_col = 0)\n",
    "s144_pos.head()"
   ]
  },
  {
   "cell_type": "code",
   "execution_count": 7,
   "metadata": {},
   "outputs": [
    {
     "data": {
      "text/html": [
       "<div>\n",
       "<style scoped>\n",
       "    .dataframe tbody tr th:only-of-type {\n",
       "        vertical-align: middle;\n",
       "    }\n",
       "\n",
       "    .dataframe tbody tr th {\n",
       "        vertical-align: top;\n",
       "    }\n",
       "\n",
       "    .dataframe thead th {\n",
       "        text-align: right;\n",
       "    }\n",
       "</style>\n",
       "<table border=\"1\" class=\"dataframe\">\n",
       "  <thead>\n",
       "    <tr style=\"text-align: right;\">\n",
       "      <th></th>\n",
       "      <th>id</th>\n",
       "      <th>word</th>\n",
       "    </tr>\n",
       "  </thead>\n",
       "  <tbody>\n",
       "    <tr>\n",
       "      <th>1</th>\n",
       "      <td>6</td>\n",
       "      <td>armi</td>\n",
       "    </tr>\n",
       "    <tr>\n",
       "      <th>2</th>\n",
       "      <td>6</td>\n",
       "      <td>would</td>\n",
       "    </tr>\n",
       "    <tr>\n",
       "      <th>4</th>\n",
       "      <td>6</td>\n",
       "      <td>swell</td>\n",
       "    </tr>\n",
       "    <tr>\n",
       "      <th>7</th>\n",
       "      <td>6</td>\n",
       "      <td>certain</td>\n",
       "    </tr>\n",
       "    <tr>\n",
       "      <th>8</th>\n",
       "      <td>6</td>\n",
       "      <td>amount</td>\n",
       "    </tr>\n",
       "  </tbody>\n",
       "</table>\n",
       "</div>"
      ],
      "text/plain": [
       "   id     word\n",
       "1   6     armi\n",
       "2   6    would\n",
       "4   6    swell\n",
       "7   6  certain\n",
       "8   6   amount"
      ]
     },
     "execution_count": 7,
     "metadata": {},
     "output_type": "execute_result"
    }
   ],
   "source": [
    "words = ta.unnest_tokens(s144_pos[s144_pos.topic == 0], \"word\", \"q85\")\n",
    "words = ta.remove_stop_words(words, \"word\")\n",
    "words = ta.stem(words, \"word\")\n",
    "words.head()"
   ]
  },
  {
   "cell_type": "code",
   "execution_count": 9,
   "metadata": {},
   "outputs": [
    {
     "data": {
      "text/html": [
       "<div>\n",
       "<style scoped>\n",
       "    .dataframe tbody tr th:only-of-type {\n",
       "        vertical-align: middle;\n",
       "    }\n",
       "\n",
       "    .dataframe tbody tr th {\n",
       "        vertical-align: top;\n",
       "    }\n",
       "\n",
       "    .dataframe thead th {\n",
       "        text-align: right;\n",
       "    }\n",
       "</style>\n",
       "<table border=\"1\" class=\"dataframe\">\n",
       "  <thead>\n",
       "    <tr style=\"text-align: right;\">\n",
       "      <th></th>\n",
       "      <th>item1</th>\n",
       "      <th>item2</th>\n",
       "      <th>count</th>\n",
       "    </tr>\n",
       "  </thead>\n",
       "  <tbody>\n",
       "    <tr>\n",
       "      <th>2</th>\n",
       "      <td>armi</td>\n",
       "      <td>think</td>\n",
       "      <td>96</td>\n",
       "    </tr>\n",
       "    <tr>\n",
       "      <th>6</th>\n",
       "      <td>men</td>\n",
       "      <td>armi</td>\n",
       "      <td>64</td>\n",
       "    </tr>\n",
       "    <tr>\n",
       "      <th>8</th>\n",
       "      <td>get</td>\n",
       "      <td>armi</td>\n",
       "      <td>62</td>\n",
       "    </tr>\n",
       "    <tr>\n",
       "      <th>10</th>\n",
       "      <td>would</td>\n",
       "      <td>armi</td>\n",
       "      <td>56</td>\n",
       "    </tr>\n",
       "    <tr>\n",
       "      <th>12</th>\n",
       "      <td>think</td>\n",
       "      <td>war</td>\n",
       "      <td>56</td>\n",
       "    </tr>\n",
       "  </tbody>\n",
       "</table>\n",
       "</div>"
      ],
      "text/plain": [
       "    item1  item2  count\n",
       "2    armi  think     96\n",
       "6     men   armi     64\n",
       "8     get   armi     62\n",
       "10  would   armi     56\n",
       "12  think    war     56"
      ]
     },
     "execution_count": 9,
     "metadata": {},
     "output_type": "execute_result"
    }
   ],
   "source": [
    "cooc_df = ta.pairwise_count(words, \"word\", \"id\")\n",
    "cooc_df.head()"
   ]
  },
  {
   "cell_type": "code",
   "execution_count": 12,
   "metadata": {},
   "outputs": [
    {
     "name": "stderr",
     "output_type": "stream",
     "text": [
      "100%|██████████| 35825/35825 [00:00<00:00, 76191.78it/s]\n"
     ]
    },
    {
     "data": {
      "text/html": [
       "<div>\n",
       "<style scoped>\n",
       "    .dataframe tbody tr th:only-of-type {\n",
       "        vertical-align: middle;\n",
       "    }\n",
       "\n",
       "    .dataframe tbody tr th {\n",
       "        vertical-align: top;\n",
       "    }\n",
       "\n",
       "    .dataframe thead th {\n",
       "        text-align: right;\n",
       "    }\n",
       "</style>\n",
       "<table border=\"1\" class=\"dataframe\">\n",
       "  <thead>\n",
       "    <tr style=\"text-align: right;\">\n",
       "      <th></th>\n",
       "      <th>item1</th>\n",
       "      <th>item2</th>\n",
       "      <th>count</th>\n",
       "      <th>has_item1_only</th>\n",
       "      <th>has_item2_only</th>\n",
       "      <th>has_both</th>\n",
       "      <th>has_neither</th>\n",
       "      <th>phi</th>\n",
       "    </tr>\n",
       "  </thead>\n",
       "  <tbody>\n",
       "    <tr>\n",
       "      <th>2</th>\n",
       "      <td>armi</td>\n",
       "      <td>think</td>\n",
       "      <td>96</td>\n",
       "      <td>34</td>\n",
       "      <td>14</td>\n",
       "      <td>35</td>\n",
       "      <td>22</td>\n",
       "      <td>0.112611</td>\n",
       "    </tr>\n",
       "    <tr>\n",
       "      <th>6</th>\n",
       "      <td>men</td>\n",
       "      <td>armi</td>\n",
       "      <td>64</td>\n",
       "      <td>9</td>\n",
       "      <td>44</td>\n",
       "      <td>25</td>\n",
       "      <td>27</td>\n",
       "      <td>0.113936</td>\n",
       "    </tr>\n",
       "    <tr>\n",
       "      <th>8</th>\n",
       "      <td>get</td>\n",
       "      <td>armi</td>\n",
       "      <td>62</td>\n",
       "      <td>7</td>\n",
       "      <td>43</td>\n",
       "      <td>26</td>\n",
       "      <td>29</td>\n",
       "      <td>0.186466</td>\n",
       "    </tr>\n",
       "    <tr>\n",
       "      <th>10</th>\n",
       "      <td>would</td>\n",
       "      <td>armi</td>\n",
       "      <td>56</td>\n",
       "      <td>12</td>\n",
       "      <td>42</td>\n",
       "      <td>27</td>\n",
       "      <td>24</td>\n",
       "      <td>0.056949</td>\n",
       "    </tr>\n",
       "    <tr>\n",
       "      <th>12</th>\n",
       "      <td>think</td>\n",
       "      <td>war</td>\n",
       "      <td>56</td>\n",
       "      <td>26</td>\n",
       "      <td>28</td>\n",
       "      <td>23</td>\n",
       "      <td>28</td>\n",
       "      <td>-0.030557</td>\n",
       "    </tr>\n",
       "  </tbody>\n",
       "</table>\n",
       "</div>"
      ],
      "text/plain": [
       "    item1  item2  count  has_item1_only  has_item2_only  has_both  \\\n",
       "2    armi  think     96              34              14        35   \n",
       "6     men   armi     64               9              44        25   \n",
       "8     get   armi     62               7              43        26   \n",
       "10  would   armi     56              12              42        27   \n",
       "12  think    war     56              26              28        23   \n",
       "\n",
       "    has_neither       phi  \n",
       "2            22  0.112611  \n",
       "6            27  0.113936  \n",
       "8            29  0.186466  \n",
       "10           24  0.056949  \n",
       "12           28 -0.030557  "
      ]
     },
     "execution_count": 12,
     "metadata": {},
     "output_type": "execute_result"
    }
   ],
   "source": [
    "cor_df = ta.pairwise_cor(words, \"word\", \"id\", cooc_df = cooc_df)\n",
    "cor_df.head()"
   ]
  },
  {
   "cell_type": "code",
   "execution_count": null,
   "metadata": {},
   "outputs": [],
   "source": []
  }
 ],
 "metadata": {
  "kernelspec": {
   "display_name": "Python 3",
   "language": "python",
   "name": "python3"
  },
  "language_info": {
   "codemirror_mode": {
    "name": "ipython",
    "version": 3
   },
   "file_extension": ".py",
   "mimetype": "text/x-python",
   "name": "python",
   "nbconvert_exporter": "python",
   "pygments_lexer": "ipython3",
   "version": "3.8.5"
  }
 },
 "nbformat": 4,
 "nbformat_minor": 4
}
